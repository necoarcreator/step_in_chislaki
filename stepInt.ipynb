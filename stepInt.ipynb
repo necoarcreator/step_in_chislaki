{
 "cells": [
  {
   "cell_type": "code",
   "execution_count": 1,
   "id": "ccb1c811",
   "metadata": {},
   "outputs": [],
   "source": [
    "import matplotlib.pyplot as plt\n",
    "import numpy as np"
   ]
  },
  {
   "cell_type": "code",
   "execution_count": 2,
   "id": "c20551a5",
   "metadata": {},
   "outputs": [],
   "source": [
    "def f(x):\n",
    "    #return 1/(x**3 + x + 10)\n",
    "    \n",
    "    return np.exp(x)"
   ]
  },
  {
   "cell_type": "code",
   "execution_count": 3,
   "id": "a1c8789a",
   "metadata": {},
   "outputs": [],
   "source": [
    "def true_f(x):\n",
    "    #return np.log(x + 2)/13 - np.log(x**2 - 2*x + 5)/26 + 3*np.arctan((x - 1)/2)/26;\n",
    "    return np.exp(x)"
   ]
  },
  {
   "cell_type": "code",
   "execution_count": 4,
   "id": "1e051324",
   "metadata": {},
   "outputs": [],
   "source": [
    "a = -1.\n",
    "b = 1.\n",
    "n = 100\n",
    "N = n + 1"
   ]
  },
  {
   "cell_type": "code",
   "execution_count": 5,
   "id": "6b9da952",
   "metadata": {},
   "outputs": [],
   "source": [
    "x = np.linspace(a, b, N)\n",
    "y = f(x)"
   ]
  },
  {
   "cell_type": "code",
   "execution_count": 6,
   "id": "e5a29d98",
   "metadata": {},
   "outputs": [],
   "source": [
    "string = []"
   ]
  },
  {
   "cell_type": "code",
   "execution_count": 7,
   "id": "80c430c4",
   "metadata": {},
   "outputs": [],
   "source": [
    "with open('integr.txt', 'r') as file:\n",
    "    for item in enumerate(file):\n",
    "        string.append(item[1])"
   ]
  },
  {
   "cell_type": "code",
   "execution_count": 8,
   "id": "f1875f0a",
   "metadata": {},
   "outputs": [
    {
     "data": {
      "text/plain": [
       "['0.203876/It is left\\n',\n",
       " '0.203376/It is right\\n',\n",
       " '0.203626/It is Trap\\n',\n",
       " '0.202542/It is Simps\\n']"
      ]
     },
     "execution_count": 8,
     "metadata": {},
     "output_type": "execute_result"
    }
   ],
   "source": [
    "string"
   ]
  },
  {
   "cell_type": "code",
   "execution_count": 9,
   "id": "93aed6d8",
   "metadata": {},
   "outputs": [],
   "source": [
    "for k in range(4):\n",
    "    string[k] = string[k].split('/')"
   ]
  },
  {
   "cell_type": "code",
   "execution_count": 10,
   "id": "f411bc4d",
   "metadata": {},
   "outputs": [
    {
     "data": {
      "text/plain": [
       "[['0.203876', 'It is left\\n'],\n",
       " ['0.203376', 'It is right\\n'],\n",
       " ['0.203626', 'It is Trap\\n'],\n",
       " ['0.202542', 'It is Simps\\n']]"
      ]
     },
     "execution_count": 10,
     "metadata": {},
     "output_type": "execute_result"
    }
   ],
   "source": [
    "string"
   ]
  },
  {
   "cell_type": "code",
   "execution_count": 11,
   "id": "baa8393e",
   "metadata": {},
   "outputs": [],
   "source": [
    "sumL = np.double(string[0][0])\n",
    "sumR = np.double(string[1][0])\n",
    "sumT = np.double(string[2][0])\n",
    "sumS = np.double(string[3][0])"
   ]
  },
  {
   "cell_type": "code",
   "execution_count": 12,
   "id": "55da942c",
   "metadata": {},
   "outputs": [],
   "source": [
    "sumTrue = true_f(b) - true_f(a)"
   ]
  },
  {
   "cell_type": "code",
   "execution_count": 13,
   "id": "b66b876a",
   "metadata": {},
   "outputs": [],
   "source": [
    "erR = abs(sumTrue - sumR)\n",
    "erL = abs(sumTrue - sumL)\n",
    "erT = abs(sumTrue - sumT)\n",
    "erS = abs(sumTrue - sumS)"
   ]
  },
  {
   "cell_type": "markdown",
   "id": "a39c037d",
   "metadata": {},
   "source": [
    "# Вот ошибки численного интегрирования в сравнении с точным  интегралом"
   ]
  },
  {
   "cell_type": "code",
   "execution_count": 14,
   "id": "342c19aa",
   "metadata": {},
   "outputs": [
    {
     "name": "stdout",
     "output_type": "stream",
     "text": [
      "2.1465263872876026\n"
     ]
    }
   ],
   "source": [
    "print(erL)"
   ]
  },
  {
   "cell_type": "code",
   "execution_count": 15,
   "id": "8f4537b3",
   "metadata": {},
   "outputs": [
    {
     "name": "stdout",
     "output_type": "stream",
     "text": [
      "2.1470263872876028\n"
     ]
    }
   ],
   "source": [
    "print(erR)"
   ]
  },
  {
   "cell_type": "markdown",
   "id": "43e57c62",
   "metadata": {},
   "source": [
    "Странно, что у метода трапеций ошибка больше, чем у правых прямоугольников."
   ]
  },
  {
   "cell_type": "code",
   "execution_count": 16,
   "id": "3f3febb2",
   "metadata": {},
   "outputs": [
    {
     "name": "stdout",
     "output_type": "stream",
     "text": [
      "2.146776387287603\n"
     ]
    }
   ],
   "source": [
    "print(erT)"
   ]
  },
  {
   "cell_type": "code",
   "execution_count": 17,
   "id": "7d1ef600",
   "metadata": {},
   "outputs": [
    {
     "name": "stdout",
     "output_type": "stream",
     "text": [
      "2.1478603872876025\n"
     ]
    }
   ],
   "source": [
    "print(erS)"
   ]
  },
  {
   "cell_type": "markdown",
   "id": "ae0b7a8c",
   "metadata": {},
   "source": [
    "# Теперь напишем то же, но на питоне"
   ]
  },
  {
   "cell_type": "code",
   "execution_count": 18,
   "id": "64a831a5",
   "metadata": {},
   "outputs": [],
   "source": [
    "def intR(x, n):\n",
    "    sum = 0;\n",
    "    h = x[1] - x[0]\n",
    "    for i in range(n + 1):\n",
    "        sum += h * f(x[i + 1])\n",
    "    return sum;"
   ]
  },
  {
   "cell_type": "code",
   "execution_count": 19,
   "id": "58ed0e47",
   "metadata": {},
   "outputs": [],
   "source": [
    "def intL(x, n):\n",
    "    sum = 0;\n",
    "    h = x[1] - x[0]\n",
    "    for i in range(n + 1):\n",
    "        sum += h *  f(x[i])\n",
    "    return sum;"
   ]
  },
  {
   "cell_type": "code",
   "execution_count": 20,
   "id": "a6980dcd",
   "metadata": {},
   "outputs": [],
   "source": [
    "def intC(x, n):\n",
    "    sum = 0;\n",
    "    h = x[1] - x[0]\n",
    "    for i in range(n + 1):\n",
    "        sum += (h/2) *  f((x[i+1] +x[i])/2)\n",
    "    return sum;"
   ]
  },
  {
   "cell_type": "code",
   "execution_count": 21,
   "id": "eb95cbde",
   "metadata": {},
   "outputs": [],
   "source": [
    "def intT(x, n):\n",
    "    sum = 0;\n",
    "    h = x[1] - x[0]\n",
    "    for i in range(n + 1):\n",
    "        sum += (h/2) * (f(x[i + 1]) + f(x[i]))\n",
    "    return sum;"
   ]
  },
  {
   "cell_type": "code",
   "execution_count": 22,
   "id": "98258506",
   "metadata": {},
   "outputs": [],
   "source": [
    "def intS(x, n):\n",
    "    sum = 0;\n",
    "    mid = (x[-1] + x[0])/2\n",
    "    h = x[1] - x[0]\n",
    "    for i in range(n + 1):\n",
    "        sum += (h/6) * (f(x[i + 1]) + 4*f(mid) + f(x[i]))\n",
    "    return sum;"
   ]
  },
  {
   "cell_type": "code",
   "execution_count": 23,
   "id": "6f39edd2",
   "metadata": {},
   "outputs": [],
   "source": [
    "y_L = np.zeros(N)\n",
    "y_R = np.zeros(N)\n",
    "y_C = np.zeros(N)\n",
    "y_T = np.zeros(N)\n",
    "y_S = np.zeros(N)\n",
    "y_true = np.zeros(N)"
   ]
  },
  {
   "cell_type": "code",
   "execution_count": 24,
   "id": "0c6daa9a",
   "metadata": {},
   "outputs": [],
   "source": [
    "for i in range(n):\n",
    "    y_L[i] = intL(x, i)\n",
    "for i in range(n):\n",
    "    y_R[i] = intR(x, i)\n",
    "for i in range(n):\n",
    "    y_C[i] = intC(x, i)\n",
    "for i in range(n):\n",
    "    y_T[i] = intT(x, i)\n",
    "for i in range(n):\n",
    "    y_S[i] = intS(x, i)\n",
    "for i in range(n):\n",
    "    y_true[i] = true_f(x[i])"
   ]
  },
  {
   "cell_type": "code",
   "execution_count": 25,
   "id": "8ae00eb7",
   "metadata": {},
   "outputs": [
    {
     "data": {
      "text/plain": [
       "<matplotlib.legend.Legend at 0x1ff571ccbd0>"
      ]
     },
     "execution_count": 25,
     "metadata": {},
     "output_type": "execute_result"
    },
    {
     "data": {
      "image/png": "[encoded data removed]",
      "text/plain": [
       "<Figure size 640x480 with 1 Axes>"
      ]
     },
     "metadata": {},
     "output_type": "display_data"
    }
   ],
   "source": [
    "plt.plot(x[:99], abs(y_true - y_L)[:99], label = 'Левые прямоугольники')\n",
    "plt.plot(x[:99], abs(y_true - y_R)[:99], ls = '--', color = 'green', label = 'Правые прямоугольники')\n",
    "plt.plot(x[:99], abs(y_true - y_C)[:99], ls = ':', color = 'black', label = 'Центральные прямоугольники')\n",
    "plt.plot(x[:99], abs(y_true - y_T)[:99], ls = '-', color = 'red', label = 'Трапеции с точностью $O(h^2)$')\n",
    "plt.plot(x[:99], abs(y_true - y_S)[:99], ls = '-.', color = 'darkblue', label = 'Симпсон с точностью $O(h^3)$')\n",
    "plt.title('Численное интегрирование функции $f(x) = 1/(x^3 + x + 10)$ на Python')\n",
    "plt.xlabel('$-1 < x < 1$')\n",
    "plt.ylabel('Ошибка интегрирования $f(x)$')\n",
    "plt.grid(color = 'brown', ls = \":\", lw = 0.5)\n",
    "#plt.text(12, 0, \"Computational complexity is $O(N^3)$\", fontsize =12)\n",
    "plt.legend(loc = 3)"
   ]
  },
  {
   "cell_type": "markdown",
   "id": "4751d339",
   "metadata": {},
   "source": [
    "# В сухом остатке, суммарная ошибка интегрирования:"
   ]
  },
  {
   "cell_type": "markdown",
   "id": "a7866b7d",
   "metadata": {},
   "source": [
    "Левые прямоугольники"
   ]
  },
  {
   "cell_type": "code",
   "execution_count": 41,
   "id": "e5dad5b3",
   "metadata": {},
   "outputs": [
    {
     "data": {
      "text/plain": [
       "0.023425677648937437"
      ]
     },
     "execution_count": 41,
     "metadata": {},
     "output_type": "execute_result"
    }
   ],
   "source": [
    "abs(sumTrue - intL(x, n - 1))"
   ]
  },
  {
   "cell_type": "markdown",
   "id": "488ab420",
   "metadata": {},
   "source": [
    "Правые прямоугольники"
   ]
  },
  {
   "cell_type": "code",
   "execution_count": 36,
   "id": "18b8bca6",
   "metadata": {},
   "outputs": [
    {
     "data": {
      "text/plain": [
       "0.023582370096814742"
      ]
     },
     "execution_count": 36,
     "metadata": {},
     "output_type": "execute_result"
    }
   ],
   "source": [
    "abs(sumTrue - intR(x, n - 1))"
   ]
  },
  {
   "cell_type": "markdown",
   "id": "ec09d3ee",
   "metadata": {},
   "source": [
    "Центральные прямоугольники"
   ]
  },
  {
   "cell_type": "code",
   "execution_count": 37,
   "id": "8a409856",
   "metadata": {},
   "outputs": [
    {
     "data": {
      "text/plain": [
       "1.1752207801018524"
      ]
     },
     "execution_count": 37,
     "metadata": {},
     "output_type": "execute_result"
    }
   ],
   "source": [
    "abs(sumTrue - intC(x, n - 1))"
   ]
  },
  {
   "cell_type": "markdown",
   "id": "1b1a73e8",
   "metadata": {},
   "source": [
    "Трапеции"
   ]
  },
  {
   "cell_type": "code",
   "execution_count": 38,
   "id": "c8a82d2e",
   "metadata": {},
   "outputs": [
    {
     "data": {
      "text/plain": [
       "7.834622393820823e-05"
      ]
     },
     "execution_count": 38,
     "metadata": {},
     "output_type": "execute_result"
    }
   ],
   "source": [
    "abs(sumTrue - intT(x, n - 1))"
   ]
  },
  {
   "cell_type": "markdown",
   "id": "8e18da82",
   "metadata": {},
   "source": [
    "Формула Симпсона"
   ]
  },
  {
   "cell_type": "code",
   "execution_count": 40,
   "id": "0acc51af",
   "metadata": {},
   "outputs": [
    {
     "data": {
      "text/plain": [
       "0.23357547611708762"
      ]
     },
     "execution_count": 40,
     "metadata": {},
     "output_type": "execute_result"
    }
   ],
   "source": [
    "abs(sumTrue - intS(x, n - 1))"
   ]
  }
 ],
 "metadata": {
  "kernelspec": {
   "display_name": "Python 3 (ipykernel)",
   "language": "python",
   "name": "python3"
  },
  "language_info": {
   "codemirror_mode": {
    "name": "ipython",
    "version": 3
   },
   "file_extension": ".py",
   "mimetype": "text/x-python",
   "name": "python",
   "nbconvert_exporter": "python",
   "pygments_lexer": "ipython3",
   "version": "3.11.4"
  }
 },
 "nbformat": 4,
 "nbformat_minor": 5
}
